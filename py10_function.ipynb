{
  "nbformat": 4,
  "nbformat_minor": 0,
  "metadata": {
    "colab": {
      "provenance": [],
      "authorship_tag": "ABX9TyNUZljkFWW/8nr3n/7MOY2q",
      "include_colab_link": true
    },
    "kernelspec": {
      "name": "python3",
      "display_name": "Python 3"
    },
    "language_info": {
      "name": "python"
    }
  },
  "cells": [
    {
      "cell_type": "markdown",
      "metadata": {
        "id": "view-in-github",
        "colab_type": "text"
      },
      "source": [
        "<a href=\"https://colab.research.google.com/github/choisilver/itwillPython/blob/main/py10_function.ipynb\" target=\"_parent\"><img src=\"https://colab.research.google.com/assets/colab-badge.svg\" alt=\"Open In Colab\"/></a>"
      ]
    },
    {
      "cell_type": "markdown",
      "source": [],
      "metadata": {
        "id": "LvzAvs6pOeVy"
      }
    },
    {
      "cell_type": "markdown",
      "source": [
        "# 1급 객체(first-class object)로서의 함수\n",
        "\n",
        "함수는 객체(object)다.\n",
        "\n",
        "* 함수는 변수에 할당할 수 있음.\n",
        "* 함수의 파라미터에 다른 함수를 전달할 수 있음.\n",
        "* 함수의 리턴 값이 함수가 될 수 있음.\n",
        "* 함수 내부에서 다른 함수를 정의할 수 있음.\n"
      ],
      "metadata": {
        "id": "0h1fayzlOhHK"
      }
    },
    {
      "cell_type": "markdown",
      "source": [
        "## 함수를 변수에 할당"
      ],
      "metadata": {
        "id": "OBzl3H-oP0H5"
      }
    },
    {
      "cell_type": "code",
      "source": [
        "def twice(x):\n",
        "    return 2 * x"
      ],
      "metadata": {
        "id": "U6NViHZlP3Yh"
      },
      "execution_count": 1,
      "outputs": []
    },
    {
      "cell_type": "code",
      "source": [
        "result = twice(5)   # 함수 twice의 호출결과(리턴값)을 변수 result에 할당.\n",
        "result"
      ],
      "metadata": {
        "colab": {
          "base_uri": "https://localhost:8080/"
        },
        "id": "xAY9LlygP9qM",
        "outputId": "9a9e04be-b6ac-4cf2-faaa-f9562515e9f0"
      },
      "execution_count": 2,
      "outputs": [
        {
          "output_type": "execute_result",
          "data": {
            "text/plain": [
              "10"
            ]
          },
          "metadata": {},
          "execution_count": 2
        }
      ]
    },
    {
      "cell_type": "code",
      "source": [
        "double = twice  # 함수 twice 객체를 변수 double에 할당.\n",
        "double"
      ],
      "metadata": {
        "colab": {
          "base_uri": "https://localhost:8080/"
        },
        "id": "Lw5mqyCrQQPI",
        "outputId": "c4150f92-474c-4591-a223-27d2409137e8"
      },
      "execution_count": 4,
      "outputs": [
        {
          "output_type": "execute_result",
          "data": {
            "text/plain": [
              "<function __main__.twice(x)>"
            ]
          },
          "metadata": {},
          "execution_count": 4
        }
      ]
    },
    {
      "cell_type": "code",
      "source": [
        "double(20)"
      ],
      "metadata": {
        "colab": {
          "base_uri": "https://localhost:8080/"
        },
        "id": "3aSEKGtTQkMS",
        "outputId": "f64a683c-6580-480f-edfe-3f9656fb8fda"
      },
      "execution_count": 5,
      "outputs": [
        {
          "output_type": "execute_result",
          "data": {
            "text/plain": [
              "40"
            ]
          },
          "metadata": {},
          "execution_count": 5
        }
      ]
    },
    {
      "cell_type": "markdown",
      "source": [
        "## 파라미터에 함수를 전달"
      ],
      "metadata": {
        "id": "14uLUKFZQ0mQ"
      }
    },
    {
      "cell_type": "code",
      "source": [
        "def calculator(x,y,fn):  # 자바, 자바스크립트에 있는 익명함수는 사용할 수 없음. 람다표현식은 가능!\n",
        "    \"\"\"\n",
        "    x,y: 숫자타입(int, float)\n",
        "    fn: 숫자 2개를 argument로 전달받고, 숫자를 리턴하는 함수.\n",
        "\n",
        "    \"\"\"\n",
        "    result = fn(x,y)\n",
        "\n",
        "    return result\n"
      ],
      "metadata": {
        "id": "CB8FSKe9QoXl"
      },
      "execution_count": 6,
      "outputs": []
    },
    {
      "cell_type": "code",
      "source": [
        "def plus(x,y):\n",
        "    return x + y\n",
        "    "
      ],
      "metadata": {
        "id": "A3GeTZ9bRcEa"
      },
      "execution_count": 7,
      "outputs": []
    },
    {
      "cell_type": "code",
      "source": [
        "calculator(1,2,plus)"
      ],
      "metadata": {
        "colab": {
          "base_uri": "https://localhost:8080/"
        },
        "id": "4BVgvDAyRjWf",
        "outputId": "d64d8ebf-c8a5-4825-e4ef-0556723f0a4a"
      },
      "execution_count": 8,
      "outputs": [
        {
          "output_type": "execute_result",
          "data": {
            "text/plain": [
              "3"
            ]
          },
          "metadata": {},
          "execution_count": 8
        }
      ]
    },
    {
      "cell_type": "markdown",
      "source": [
        "## 내부함수, 함수 리턴"
      ],
      "metadata": {
        "id": "fTi4Jvm4SSmA"
      }
    },
    {
      "cell_type": "code",
      "source": [
        "def make_increments(n):\n",
        "    \n",
        "    # 내부함수(inner function). 지역 함수(local function)\n",
        "    def add_n(x):\n",
        "        # 내부함수는 외부함수의 지역 변수들을 사용할 수 있음.\n",
        "        return x + n\n",
        "\n",
        "    return add_n  # 함수 객체를 리턴.\n"
      ],
      "metadata": {
        "id": "GKzEkr5dSdwY"
      },
      "execution_count": 9,
      "outputs": []
    },
    {
      "cell_type": "code",
      "source": [
        "increase_by_2 = make_increments(2)\n",
        "increase_by_2"
      ],
      "metadata": {
        "colab": {
          "base_uri": "https://localhost:8080/"
        },
        "id": "Jb6Vpb5OTupo",
        "outputId": "1eb3e431-0936-47bd-bd0f-68d90aad8ad7"
      },
      "execution_count": 11,
      "outputs": [
        {
          "output_type": "execute_result",
          "data": {
            "text/plain": [
              "<function __main__.make_increments.<locals>.add_n(x)>"
            ]
          },
          "metadata": {},
          "execution_count": 11
        }
      ]
    },
    {
      "cell_type": "code",
      "source": [
        "increase_by_2(3)"
      ],
      "metadata": {
        "colab": {
          "base_uri": "https://localhost:8080/"
        },
        "id": "7Yd6Dd0_UPi8",
        "outputId": "d1f1fed7-a461-4024-fdb3-f462397b5349"
      },
      "execution_count": 13,
      "outputs": [
        {
          "output_type": "execute_result",
          "data": {
            "text/plain": [
              "5"
            ]
          },
          "metadata": {},
          "execution_count": 13
        }
      ]
    },
    {
      "cell_type": "code",
      "source": [
        "increase_by_10 = make_increments(10)\n",
        "increase_by_10(100)"
      ],
      "metadata": {
        "colab": {
          "base_uri": "https://localhost:8080/"
        },
        "id": "yYuA1tXPUgGq",
        "outputId": "56033d74-354a-4fc0-dd2f-c123fe34549d"
      },
      "execution_count": 14,
      "outputs": [
        {
          "output_type": "execute_result",
          "data": {
            "text/plain": [
              "110"
            ]
          },
          "metadata": {},
          "execution_count": 14
        }
      ]
    },
    {
      "cell_type": "markdown",
      "source": [
        "# 람다 표현식(Lambda expression)\n",
        "\n",
        "* 이름이 없는 함수 표기법 \n",
        "* 함수 이름 없이 함수의 파라미터 선언과 반환 값 또는 반환 식으로만 함수를 정의 하는 방법.\n",
        "* 파이썬은 2줄 이상의 문장이 포함된 람다 표현식은 제공하지 않음.  \n",
        "\n",
        "```\n",
        "lambda p1, p2, ... : expression  \n",
        "```\n"
      ],
      "metadata": {
        "id": "x5rG7USxafpV"
      }
    },
    {
      "cell_type": "code",
      "source": [
        "minus = lambda x,y : x-y"
      ],
      "metadata": {
        "id": "D1epjkfqbPP0"
      },
      "execution_count": 15,
      "outputs": []
    },
    {
      "cell_type": "code",
      "source": [
        "minus"
      ],
      "metadata": {
        "colab": {
          "base_uri": "https://localhost:8080/"
        },
        "id": "fg-pBmJDbVQY",
        "outputId": "e92890dc-47fc-4107-ef20-a5724da384f0"
      },
      "execution_count": 16,
      "outputs": [
        {
          "output_type": "execute_result",
          "data": {
            "text/plain": [
              "<function __main__.<lambda>(x, y)>"
            ]
          },
          "metadata": {},
          "execution_count": 16
        }
      ]
    },
    {
      "cell_type": "code",
      "source": [
        "calculator(1,12,lambda x,y: x/y)"
      ],
      "metadata": {
        "colab": {
          "base_uri": "https://localhost:8080/"
        },
        "id": "0E77gRIJbWQ8",
        "outputId": "5884c31b-3495-4a88-d544-406a922962dc"
      },
      "execution_count": 18,
      "outputs": [
        {
          "output_type": "execute_result",
          "data": {
            "text/plain": [
              "0.08333333333333333"
            ]
          },
          "metadata": {},
          "execution_count": 18
        }
      ]
    },
    {
      "cell_type": "markdown",
      "source": [
        "calculator 함수에 더 큰 숫자를 리턴하는 람다표현식"
      ],
      "metadata": {
        "id": "oNvjQxwycO11"
      }
    },
    {
      "cell_type": "code",
      "source": [
        "# calculator(10,2 , lambda x,y : max(x,y))\n",
        "calculator(10,2 , lambda x,y : x if x > y else y)   # 삼항연산자? "
      ],
      "metadata": {
        "colab": {
          "base_uri": "https://localhost:8080/"
        },
        "id": "60UaUmxKcufk",
        "outputId": "36f9cd51-8ea5-4d1e-bf9d-caa0b88f7b52"
      },
      "execution_count": 23,
      "outputs": [
        {
          "output_type": "execute_result",
          "data": {
            "text/plain": [
              "10"
            ]
          },
          "metadata": {},
          "execution_count": 23
        }
      ]
    },
    {
      "cell_type": "markdown",
      "source": [
        "calculator 함수에 첫번째 argument가 크면 True 그렇지 않으면 False를 리턴하는 람다표현식을 argumnet"
      ],
      "metadata": {
        "id": "32ggmXBxcdxc"
      }
    },
    {
      "cell_type": "code",
      "source": [
        "calculator(10,30, lambda x,y : x>y)"
      ],
      "metadata": {
        "colab": {
          "base_uri": "https://localhost:8080/"
        },
        "id": "YXlkYmPKb6_k",
        "outputId": "1f025a1b-859d-4861-b98b-afe274a31013"
      },
      "execution_count": 22,
      "outputs": [
        {
          "output_type": "execute_result",
          "data": {
            "text/plain": [
              "False"
            ]
          },
          "metadata": {},
          "execution_count": 22
        }
      ]
    },
    {
      "cell_type": "markdown",
      "source": [
        "## filter 함수"
      ],
      "metadata": {
        "id": "V1hnkU_EeIas"
      }
    },
    {
      "cell_type": "code",
      "source": [],
      "metadata": {
        "id": "4tHiD190nOEJ"
      },
      "execution_count": null,
      "outputs": []
    },
    {
      "cell_type": "code",
      "source": [
        "def my_filter(iterable, fn):\n",
        "    \"\"\"\n",
        "    리스트 iterable의 원소들 중에서 fn의 결과값이 True인 원소들로만 이루어진 리스트를 리턴.\n",
        "\n",
        "    iterable: 리스트.\n",
        "    fn: argument가 1개이고, 리턴 타입은 bool인 함수.\n",
        "    \"\"\"\n",
        "\n",
        "    # result = []  #  필터링된 결과를 저장할 빈 리스트\n",
        "    # for x in iterable:  # 원본 리스트의 원소들을 처음부터 끝까지 반복하면서\n",
        "    #     if fn(x) :  # 필터링 조건을 만족하면\n",
        "    #         result.append(x)  # 결과 리스트에 추가\n",
        "    # return result\n",
        "    return [x for x in iterable if fn(x)]\n",
        "    \n"
      ],
      "metadata": {
        "id": "zIg2DXtFdPBP"
      },
      "execution_count": 49,
      "outputs": []
    },
    {
      "cell_type": "code",
      "source": [
        "lists = [1,2,3,4,-5,-7]\n",
        "my_filter(lists, lambda x : x >0 )  # 리스트에서 짝수, 홀수만 필터링함."
      ],
      "metadata": {
        "colab": {
          "base_uri": "https://localhost:8080/"
        },
        "id": "pIXSfNIfgj8E",
        "outputId": "c60b50d7-3eb8-402f-8626-867676f26840"
      },
      "execution_count": 55,
      "outputs": [
        {
          "output_type": "execute_result",
          "data": {
            "text/plain": [
              "[1, 2, 3, 4]"
            ]
          },
          "metadata": {},
          "execution_count": 55
        }
      ]
    },
    {
      "cell_type": "markdown",
      "source": [
        "## map 함수"
      ],
      "metadata": {
        "id": "LHx-SqUtfTBs"
      }
    },
    {
      "cell_type": "code",
      "source": [
        "def my_mapper(iterable, fn):\n",
        "    \"\"\"\n",
        "    리스트 iterable의 원소들을 함수 fn의 리턴 값으로 변환한 리스트를 리턴.\n",
        "\n",
        "    iterable: 리스트\n",
        "    fn: argument가 한개이고 리턴 값이 있는 함수.\n",
        "    \"\"\"\n",
        "    # result = []\n",
        "    # for x in iterable:\n",
        "    #     result.append(fn(x))\n",
        "    # return result\n",
        "\n",
        "    return [fn(x) for x in iterable ]"
      ],
      "metadata": {
        "id": "qxA1ruLkfVUc"
      },
      "execution_count": 57,
      "outputs": []
    },
    {
      "cell_type": "code",
      "source": [
        "# lists의 원소들을 짝수는 True, 홀수는 False로 매핑\n",
        "my_mapper(lists, lambda x : x%2==1)"
      ],
      "metadata": {
        "colab": {
          "base_uri": "https://localhost:8080/"
        },
        "id": "qxBiL0vAe253",
        "outputId": "4c9a3e6a-43b6-45dc-e8cc-54c6468a1c91"
      },
      "execution_count": 61,
      "outputs": [
        {
          "output_type": "execute_result",
          "data": {
            "text/plain": [
              "[True, False, True, False, True, True]"
            ]
          },
          "metadata": {},
          "execution_count": 61
        }
      ]
    },
    {
      "cell_type": "code",
      "source": [
        "# lists의 원소들을 0이상인 숫자들은 True, 음수들은 False로 매핑\n",
        "my_mapper(lists, lambda x: x>=0)"
      ],
      "metadata": {
        "colab": {
          "base_uri": "https://localhost:8080/"
        },
        "id": "Gi0d4T0Fi5yO",
        "outputId": "e6ba4e00-2fd2-4802-9874-7e4a8be1e005"
      },
      "execution_count": 62,
      "outputs": [
        {
          "output_type": "execute_result",
          "data": {
            "text/plain": [
              "[True, True, True, True, False, False]"
            ]
          },
          "metadata": {},
          "execution_count": 62
        }
      ]
    },
    {
      "cell_type": "code",
      "source": [
        "# languages의 문자열들을 그 문자열의 길이로 매핑\n",
        "my_mapper(languages, lambda x: len(x))"
      ],
      "metadata": {
        "colab": {
          "base_uri": "https://localhost:8080/"
        },
        "id": "3W9eevlgn8Qv",
        "outputId": "a7b19c39-51a9-4422-ee87-4f1c46591a35"
      },
      "execution_count": 63,
      "outputs": [
        {
          "output_type": "execute_result",
          "data": {
            "text/plain": [
              "[4, 10, 6]"
            ]
          },
          "metadata": {},
          "execution_count": 63
        }
      ]
    },
    {
      "cell_type": "markdown",
      "source": [
        "Python 구현된 `filter`, `mapper`"
      ],
      "metadata": {
        "id": "cpQmFXEWr9yo"
      }
    },
    {
      "cell_type": "code",
      "source": [
        "result = filter(lambda x: x>0, lists)"
      ],
      "metadata": {
        "id": "eQzfx7J6rvNC"
      },
      "execution_count": 64,
      "outputs": []
    },
    {
      "cell_type": "code",
      "source": [
        "result  # 필터 객체가 리턴 됨. 리스트 타입이 아님."
      ],
      "metadata": {
        "colab": {
          "base_uri": "https://localhost:8080/"
        },
        "id": "UCwSRscXsvvl",
        "outputId": "e0f97ab0-cbfa-471b-88b4-746422136031"
      },
      "execution_count": 65,
      "outputs": [
        {
          "output_type": "execute_result",
          "data": {
            "text/plain": [
              "<filter at 0x7f8da04d9e80>"
            ]
          },
          "metadata": {},
          "execution_count": 65
        }
      ]
    },
    {
      "cell_type": "code",
      "source": [
        "list(result) # 강제 타입 변환."
      ],
      "metadata": {
        "colab": {
          "base_uri": "https://localhost:8080/"
        },
        "id": "RmnotZXQswdn",
        "outputId": "12c650d8-d4b3-469f-ed9e-dcb3922d4e45"
      },
      "execution_count": 66,
      "outputs": [
        {
          "output_type": "execute_result",
          "data": {
            "text/plain": [
              "[1, 2, 3, 4]"
            ]
          },
          "metadata": {},
          "execution_count": 66
        }
      ]
    },
    {
      "cell_type": "code",
      "source": [
        "result = map(lambda x: x>0, lists)\n",
        "result"
      ],
      "metadata": {
        "colab": {
          "base_uri": "https://localhost:8080/"
        },
        "id": "6SD9xFTKs6za",
        "outputId": "4ed4c770-58ae-43dd-f4da-1fbdb76db49e"
      },
      "execution_count": 68,
      "outputs": [
        {
          "output_type": "execute_result",
          "data": {
            "text/plain": [
              "<map at 0x7f8da94a0c40>"
            ]
          },
          "metadata": {},
          "execution_count": 68
        }
      ]
    },
    {
      "cell_type": "code",
      "source": [
        "list(result)"
      ],
      "metadata": {
        "colab": {
          "base_uri": "https://localhost:8080/"
        },
        "id": "xO7U_ZtJtj79",
        "outputId": "8c7013cb-2984-43b1-b218-35e1c5cd5eb7"
      },
      "execution_count": 69,
      "outputs": [
        {
          "output_type": "execute_result",
          "data": {
            "text/plain": [
              "[True, True, True, True, False, False]"
            ]
          },
          "metadata": {},
          "execution_count": 69
        }
      ]
    },
    {
      "cell_type": "code",
      "source": [
        "dir()"
      ],
      "metadata": {
        "colab": {
          "base_uri": "https://localhost:8080/"
        },
        "id": "_jhkJ0YxtmR-",
        "outputId": "f0f317c2-981c-40d1-a407-19b2740e0d38"
      },
      "execution_count": 71,
      "outputs": [
        {
          "output_type": "execute_result",
          "data": {
            "text/plain": [
              "['In',\n",
              " 'Out',\n",
              " '_',\n",
              " '_10',\n",
              " '_11',\n",
              " '_12',\n",
              " '_13',\n",
              " '_14',\n",
              " '_16',\n",
              " '_17',\n",
              " '_18',\n",
              " '_19',\n",
              " '_2',\n",
              " '_20',\n",
              " '_21',\n",
              " '_22',\n",
              " '_23',\n",
              " '_3',\n",
              " '_30',\n",
              " '_32',\n",
              " '_33',\n",
              " '_34',\n",
              " '_35',\n",
              " '_36',\n",
              " '_37',\n",
              " '_39',\n",
              " '_4',\n",
              " '_41',\n",
              " '_43',\n",
              " '_44',\n",
              " '_45',\n",
              " '_46',\n",
              " '_48',\n",
              " '_5',\n",
              " '_50',\n",
              " '_51',\n",
              " '_52',\n",
              " '_53',\n",
              " '_54',\n",
              " '_55',\n",
              " '_56',\n",
              " '_58',\n",
              " '_59',\n",
              " '_60',\n",
              " '_61',\n",
              " '_62',\n",
              " '_63',\n",
              " '_65',\n",
              " '_66',\n",
              " '_68',\n",
              " '_69',\n",
              " '_70',\n",
              " '_8',\n",
              " '__',\n",
              " '___',\n",
              " '__builtin__',\n",
              " '__builtins__',\n",
              " '__doc__',\n",
              " '__loader__',\n",
              " '__name__',\n",
              " '__package__',\n",
              " '__spec__',\n",
              " '_dh',\n",
              " '_i',\n",
              " '_i1',\n",
              " '_i10',\n",
              " '_i11',\n",
              " '_i12',\n",
              " '_i13',\n",
              " '_i14',\n",
              " '_i15',\n",
              " '_i16',\n",
              " '_i17',\n",
              " '_i18',\n",
              " '_i19',\n",
              " '_i2',\n",
              " '_i20',\n",
              " '_i21',\n",
              " '_i22',\n",
              " '_i23',\n",
              " '_i24',\n",
              " '_i25',\n",
              " '_i26',\n",
              " '_i27',\n",
              " '_i28',\n",
              " '_i29',\n",
              " '_i3',\n",
              " '_i30',\n",
              " '_i31',\n",
              " '_i32',\n",
              " '_i33',\n",
              " '_i34',\n",
              " '_i35',\n",
              " '_i36',\n",
              " '_i37',\n",
              " '_i38',\n",
              " '_i39',\n",
              " '_i4',\n",
              " '_i40',\n",
              " '_i41',\n",
              " '_i42',\n",
              " '_i43',\n",
              " '_i44',\n",
              " '_i45',\n",
              " '_i46',\n",
              " '_i47',\n",
              " '_i48',\n",
              " '_i49',\n",
              " '_i5',\n",
              " '_i50',\n",
              " '_i51',\n",
              " '_i52',\n",
              " '_i53',\n",
              " '_i54',\n",
              " '_i55',\n",
              " '_i56',\n",
              " '_i57',\n",
              " '_i58',\n",
              " '_i59',\n",
              " '_i6',\n",
              " '_i60',\n",
              " '_i61',\n",
              " '_i62',\n",
              " '_i63',\n",
              " '_i64',\n",
              " '_i65',\n",
              " '_i66',\n",
              " '_i67',\n",
              " '_i68',\n",
              " '_i69',\n",
              " '_i7',\n",
              " '_i70',\n",
              " '_i71',\n",
              " '_i8',\n",
              " '_i9',\n",
              " '_ih',\n",
              " '_ii',\n",
              " '_iii',\n",
              " '_oh',\n",
              " 'calculator',\n",
              " 'double',\n",
              " 'exit',\n",
              " 'get_ipython',\n",
              " 'increase_by_10',\n",
              " 'increase_by_2',\n",
              " 'languages',\n",
              " 'lists',\n",
              " 'make_increments',\n",
              " 'minus',\n",
              " 'my_filter',\n",
              " 'my_mapper',\n",
              " 'plus',\n",
              " 'quit',\n",
              " 'result',\n",
              " 'twice',\n",
              " 'week']"
            ]
          },
          "metadata": {},
          "execution_count": 71
        }
      ]
    },
    {
      "cell_type": "code",
      "source": [],
      "metadata": {
        "id": "R-eoiAI3AxBi"
      },
      "execution_count": null,
      "outputs": []
    }
  ]
}