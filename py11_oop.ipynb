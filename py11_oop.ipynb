{
  "nbformat": 4,
  "nbformat_minor": 0,
  "metadata": {
    "colab": {
      "provenance": [],
      "toc_visible": true,
      "authorship_tag": "ABX9TyMyMXFY4RnmHvN/IGApUXlN",
      "include_colab_link": true
    },
    "kernelspec": {
      "name": "python3",
      "display_name": "Python 3"
    },
    "language_info": {
      "name": "python"
    }
  },
  "cells": [
    {
      "cell_type": "markdown",
      "metadata": {
        "id": "view-in-github",
        "colab_type": "text"
      },
      "source": [
        "<a href=\"https://colab.research.google.com/github/choisilver/itwillPython/blob/main/py11_oop.ipynb\" target=\"_parent\"><img src=\"https://colab.research.google.com/assets/colab-badge.svg\" alt=\"Open In Colab\"/></a>"
      ]
    },
    {
      "cell_type": "markdown",
      "source": [
        "# OOP(Object-Oriented Programing, 객체지향프로그래밍)"
      ],
      "metadata": {
        "id": "_FQFCeJ6DLE-"
      }
    },
    {
      "cell_type": "markdown",
      "source": [
        "## list, dict 데이터 타입 사용 프로그래밍"
      ],
      "metadata": {
        "id": "5mKT3arfDkYd"
      }
    },
    {
      "cell_type": "code",
      "execution_count": null,
      "metadata": {
        "id": "PBol28f4Cp7Y"
      },
      "outputs": [],
      "source": [
        "students = [\n",
        "    {'name': 'aaa', 'java':100, 'python':90, 'javascript': 70},\n",
        "    {'name': 'bbb', 'java':90, 'python':80, 'javascript': 90},\n",
        "    {'name': 'ccc', 'java':55, 'python':90, 'javascript': 65},\n",
        "\n",
        "]"
      ]
    },
    {
      "cell_type": "code",
      "source": [
        "students"
      ],
      "metadata": {
        "colab": {
          "base_uri": "https://localhost:8080/"
        },
        "id": "iVTXm-zbEQGJ",
        "outputId": "ba9fcd8a-a2eb-4f23-af52-a3279e74c260"
      },
      "execution_count": null,
      "outputs": [
        {
          "output_type": "execute_result",
          "data": {
            "text/plain": [
              "[{'name': 'aaa', 'java': 100, 'python': 90, 'javascript': 70},\n",
              " {'name': 'bbb', 'java': 90, 'python': 80, 'javascript': 90},\n",
              " {'name': 'ccc', 'java': 55, 'python': 90, 'javascript': 65}]"
            ]
          },
          "metadata": {},
          "execution_count": 2
        }
      ]
    },
    {
      "cell_type": "code",
      "source": [
        "# 각 학생의 세 과목 총점과 평균 출력\n",
        "for s in students:  # list에서 하나씩\n",
        "    total = s['java'] + s['python'] + s['javascript']\n",
        "    mean = total/3\n",
        "    print(f'이름: {s[\"name\"]}  총점 :{total} 평균 : {mean}')\n",
        "    "
      ],
      "metadata": {
        "colab": {
          "base_uri": "https://localhost:8080/"
        },
        "id": "medbImOBERPY",
        "outputId": "5b612e08-5870-409d-8005-7c22dc185816"
      },
      "execution_count": null,
      "outputs": [
        {
          "output_type": "stream",
          "name": "stdout",
          "text": [
            "이름: aaa  총점 :260 평균 : 86.66666666666667\n",
            "이름: bbb  총점 :260 평균 : 86.66666666666667\n",
            "이름: ccc  총점 :210 평균 : 70.0\n"
          ]
        }
      ]
    },
    {
      "cell_type": "code",
      "source": [],
      "metadata": {
        "id": "eWkccndeFMts"
      },
      "execution_count": null,
      "outputs": []
    },
    {
      "cell_type": "markdown",
      "source": [
        "## 함수형 프로그래밍(Functional programming)\n"
      ],
      "metadata": {
        "id": "BCZ4cXDQGlB8"
      }
    },
    {
      "cell_type": "code",
      "source": [
        "def create_student(name, java, python, javascript):\n",
        "    student = {\n",
        "        'name':name,\n",
        "        'java': java,\n",
        "        'python': python,\n",
        "        'javascript':javascript\n",
        "    }\n",
        "    return student\n"
      ],
      "metadata": {
        "id": "1vZt29XhG2vU"
      },
      "execution_count": null,
      "outputs": []
    },
    {
      "cell_type": "code",
      "source": [
        "students = [\n",
        "    create_student('김길동', 100,50,50),\n",
        "    create_student('최길동', 88,90,70),\n",
        "    create_student('홍길동', 100,45,80)\n",
        "]"
      ],
      "metadata": {
        "id": "99wTMwdEHitb"
      },
      "execution_count": null,
      "outputs": []
    },
    {
      "cell_type": "code",
      "source": [
        "students"
      ],
      "metadata": {
        "colab": {
          "base_uri": "https://localhost:8080/"
        },
        "id": "8-02W8gTHzvK",
        "outputId": "d431a4bb-bf0a-49ec-acb0-b94fe1624102"
      },
      "execution_count": null,
      "outputs": [
        {
          "output_type": "execute_result",
          "data": {
            "text/plain": [
              "[{'name': '김길동', 'java': 100, 'python': 50, 'javascript': 50},\n",
              " {'name': '최길동', 'java': 88, 'python': 90, 'javascript': 70},\n",
              " {'name': '홍길동', 'java': 100, 'python': 45, 'javascript': 80}]"
            ]
          },
          "metadata": {},
          "execution_count": 9
        }
      ]
    },
    {
      "cell_type": "code",
      "source": [
        "def get_total(student):\n",
        "    return student['java']+ student['python']+student['javascript']"
      ],
      "metadata": {
        "id": "J07ZnBoOIFBL"
      },
      "execution_count": null,
      "outputs": []
    },
    {
      "cell_type": "code",
      "source": [
        "def get_mean(student):\n",
        "    return get_total(student)/3"
      ],
      "metadata": {
        "id": "eIDKLggwIVGu"
      },
      "execution_count": null,
      "outputs": []
    },
    {
      "cell_type": "code",
      "source": [
        "for s in students:\n",
        "    name = s['name']\n",
        "    total = get_total(s)\n",
        "    mean = get_mean(s)\n",
        "    print(f'이름:{name} 총점:{total} 평균 : {mean}')"
      ],
      "metadata": {
        "colab": {
          "base_uri": "https://localhost:8080/"
        },
        "id": "lscHgbwcIeHg",
        "outputId": "b81724de-f29f-42b0-82cc-76d65a2f4d8a"
      },
      "execution_count": null,
      "outputs": [
        {
          "output_type": "stream",
          "name": "stdout",
          "text": [
            "이름:김길동 총점:200 평균 : 66.66666666666667\n",
            "이름:최길동 총점:248 평균 : 82.66666666666667\n",
            "이름:홍길동 총점:225 평균 : 75.0\n"
          ]
        }
      ]
    },
    {
      "cell_type": "markdown",
      "source": [
        "## 객체 지향 프로그래밍(OOP)\n"
      ],
      "metadata": {
        "id": "0nciCTsOG2gs"
      }
    },
    {
      "cell_type": "code",
      "source": [
        "class Student:\n",
        "    # 생성자 함수: 생성자를 호출하면 파이썬 인터프리터에 의해서 자동으로 호출되는 메서드.\n",
        "    def __init__(self, name, java, python, javascript):  # self를 제외한 것이 실제 대입 되어야 할 argument, 멤버변수\n",
        "        self.name= name\n",
        "        self.java = java\n",
        "        self.python = python\n",
        "        self.javascript = javascript\n",
        "\n",
        "    def get_total(self): # 메서드 정의시 객체의 주소값을 넣어줘야함. 함수는 self가 필요하지 않음.\n",
        "        return self.java + self.python + self.javascript\n",
        "\n",
        "    def get_mean(self):\n",
        "        return self.get_total()/3\n",
        "\n",
        "    def print_info(self):\n",
        "        print(f'이름: {self.name}, 총점: {self.get_total()} 평균:{self.get_mean()}')"
      ],
      "metadata": {
        "id": "UjFRrcg7JoA7"
      },
      "execution_count": null,
      "outputs": []
    },
    {
      "cell_type": "code",
      "source": [
        "student1= Student('홍길동',100, 80, 90)"
      ],
      "metadata": {
        "id": "Wi_aneZFKxTM"
      },
      "execution_count": null,
      "outputs": []
    },
    {
      "cell_type": "code",
      "source": [
        "student1.print_info()"
      ],
      "metadata": {
        "colab": {
          "base_uri": "https://localhost:8080/"
        },
        "id": "vlYSXtp_K4bf",
        "outputId": "018f86eb-fea3-4d45-d04b-624d3e7a198c"
      },
      "execution_count": null,
      "outputs": [
        {
          "output_type": "stream",
          "name": "stdout",
          "text": [
            "이름: 홍길동, 총점: 270 평균:90.0\n"
          ]
        }
      ]
    },
    {
      "cell_type": "code",
      "source": [
        "student1.get_total()"
      ],
      "metadata": {
        "colab": {
          "base_uri": "https://localhost:8080/"
        },
        "id": "np5n_QU-K7mF",
        "outputId": "56c5f18c-5c7e-447c-d14e-dab191416dd2"
      },
      "execution_count": null,
      "outputs": [
        {
          "output_type": "execute_result",
          "data": {
            "text/plain": [
              "270"
            ]
          },
          "metadata": {},
          "execution_count": 20
        }
      ]
    },
    {
      "cell_type": "markdown",
      "source": [
        "## 클래스 작성 연습"
      ],
      "metadata": {
        "id": "z4nCQX_0UVff"
      }
    },
    {
      "cell_type": "markdown",
      "source": [
        "* 2차원 평면의 점의 좌표(x,y)를 표현하는 클래스.\n",
        "* 메서드: \n",
        "    * 점의 좌표를 원래 위치에서 dx, dy만크 이동시키는 메서드.\n",
        "    * 두 점 간의 거리를 리턴하는 메서드."
      ],
      "metadata": {
        "id": "SOLR64ZIUY4H"
      }
    },
    {
      "cell_type": "code",
      "source": [
        "import math"
      ],
      "metadata": {
        "id": "67grZf-qROec"
      },
      "execution_count": null,
      "outputs": []
    },
    {
      "cell_type": "code",
      "source": [
        "class Point:\n",
        "    def __init__(self, x=0,y=0):\n",
        "        # 인스턴스 변수(객체 속성) 선언과 초기화. \n",
        "        self.x=x\n",
        "        self.y = y\n",
        "\n",
        "    def move(self, dx, dy):\n",
        "        self.x += dx\n",
        "        self.y += dy\n",
        "        return self \n",
        "    \n",
        "    def distanc(self, pt):\n",
        "        return math.sqrt((self.x - pt.x)**2 + (self.y - pt.y)**2 )\n",
        "\n",
        "    def __str__(self):\n",
        "        return f'Point(x={self.x}, y={self.y})';\n",
        "\n",
        "# 생성자 하나만 만들어서 디폴트, 키워드 argument를 이용해서 여러개 사용할 수 있음."
      ],
      "metadata": {
        "id": "ZGcZKx9eWta-"
      },
      "execution_count": null,
      "outputs": []
    },
    {
      "cell_type": "code",
      "source": [
        "# 좌표가 원점인 Point 타입 객체 생성\n",
        "point0 = Point(0,0)\n",
        "print(point0)"
      ],
      "metadata": {
        "colab": {
          "base_uri": "https://localhost:8080/"
        },
        "id": "zv6XdmrlX0he",
        "outputId": "52b4fafe-c9fa-48b3-f348-1c459d941b31"
      },
      "execution_count": null,
      "outputs": [
        {
          "output_type": "stream",
          "name": "stdout",
          "text": [
            "Point(x=0, y=0)\n"
          ]
        }
      ]
    },
    {
      "cell_type": "code",
      "source": [
        "print(point0.x)  # point0 인스턴스의 속성(필드)\n",
        "print(point0.y)"
      ],
      "metadata": {
        "colab": {
          "base_uri": "https://localhost:8080/"
        },
        "id": "06y8Q7FRYepG",
        "outputId": "31ee156a-b64a-4ef7-eb6d-05b5a1f80b0e"
      },
      "execution_count": null,
      "outputs": [
        {
          "output_type": "stream",
          "name": "stdout",
          "text": [
            "0\n",
            "0\n"
          ]
        }
      ]
    },
    {
      "cell_type": "code",
      "source": [
        "point0.move(1,2)   # 주소값을 리턴함. 처음 만들어졌을 때와 동일함."
      ],
      "metadata": {
        "colab": {
          "base_uri": "https://localhost:8080/"
        },
        "id": "U-f6lUPPYxuF",
        "outputId": "d4fd7e74-2a70-4164-bd99-5c0f1593244e"
      },
      "execution_count": null,
      "outputs": [
        {
          "output_type": "execute_result",
          "data": {
            "text/plain": [
              "<__main__.Point at 0x7fe0506292e0>"
            ]
          },
          "metadata": {},
          "execution_count": 51
        }
      ]
    },
    {
      "cell_type": "code",
      "source": [
        "point1 = Point(1,0)\n",
        "point0.distanc(point1)"
      ],
      "metadata": {
        "colab": {
          "base_uri": "https://localhost:8080/"
        },
        "id": "0hz-XtdbZrsu",
        "outputId": "6cc14ceb-0fa9-48d4-835b-31f71cb82959"
      },
      "execution_count": null,
      "outputs": [
        {
          "output_type": "execute_result",
          "data": {
            "text/plain": [
              "2.0"
            ]
          },
          "metadata": {},
          "execution_count": 52
        }
      ]
    },
    {
      "cell_type": "code",
      "source": [
        "pt1 = Point()\n",
        "print(pt1)\n",
        "\n"
      ],
      "metadata": {
        "colab": {
          "base_uri": "https://localhost:8080/"
        },
        "id": "WfkRnPlbgs_l",
        "outputId": "d95a4172-9588-4fd1-cf33-b00a17b7be14"
      },
      "execution_count": null,
      "outputs": [
        {
          "output_type": "stream",
          "name": "stdout",
          "text": [
            "Point(x=0, y=0)\n"
          ]
        }
      ]
    },
    {
      "cell_type": "code",
      "source": [
        "pt2 = Point(1) \n",
        "print(pt2)"
      ],
      "metadata": {
        "colab": {
          "base_uri": "https://localhost:8080/"
        },
        "id": "zRkgeR5whZvH",
        "outputId": "313eab7c-555a-4e7c-efa5-55cbd39257bc"
      },
      "execution_count": null,
      "outputs": [
        {
          "output_type": "stream",
          "name": "stdout",
          "text": [
            "Point(x=1, y=0)\n"
          ]
        }
      ]
    },
    {
      "cell_type": "code",
      "source": [
        "pt3 = Point(y=1)\n",
        "print(pt3)"
      ],
      "metadata": {
        "colab": {
          "base_uri": "https://localhost:8080/"
        },
        "id": "eX6_iQcyVRE7",
        "outputId": "088e6ad6-786e-44a8-8717-cfa4cb266f5d"
      },
      "execution_count": null,
      "outputs": [
        {
          "output_type": "stream",
          "name": "stdout",
          "text": [
            "Point(x=0, y=1)\n"
          ]
        }
      ]
    },
    {
      "cell_type": "code",
      "source": [],
      "metadata": {
        "id": "7Dcst7z5WOIo"
      },
      "execution_count": null,
      "outputs": []
    },
    {
      "cell_type": "code",
      "source": [],
      "metadata": {
        "colab": {
          "base_uri": "https://localhost:8080/"
        },
        "id": "EZnYEUE-WWSZ",
        "outputId": "9e788de2-7811-450c-a4ff-888036dc2564"
      },
      "execution_count": null,
      "outputs": [
        {
          "output_type": "execute_result",
          "data": {
            "text/plain": [
              "(7, 20)"
            ]
          },
          "metadata": {},
          "execution_count": 30
        }
      ]
    },
    {
      "cell_type": "code",
      "source": [
        "class Xy:\n",
        "    def __init__(self, x, y):\n",
        "        self.x = x\n",
        "        self.y = y\n",
        "    \n",
        "    def move_dx(self, dx, dy):\n",
        "        self.x = self.x + dx\n",
        "        self.y = self.y + dy\n",
        "        return self.x, self.y\n",
        "\n",
        "point1 = Xy(5,10)\n",
        "point1.move_dx(dx = 2, dy = 10)"
      ],
      "metadata": {
        "id": "Gge1GtbZWa8h"
      },
      "execution_count": null,
      "outputs": []
    },
    {
      "cell_type": "markdown",
      "source": [
        "# magic method\n",
        "\n",
        "모든 클래스가 같은 이름으로 가지고 있는 메서드. 특별한 경우에 자동으로 호출되는 메서드.\n",
        "\n",
        "* `__init__(self)`:  생성자를 호출하면 자동으로 호출되는 메서드. 인스턴스 변수 선언 & 초기화.\n",
        "* `__str__(self)`: 문자열을 리턴하는 메서드. print() 함수 안에서 자동으로 호출됨.\n",
        "* `__repr__(self)`: 문자열을 리턴하는 메서드. 식(expression)을 출력할 때 자동으로 호출되는 메서드.\n",
        "    * 클래스에서 `__str__` 메서드와 `__repr__` 메서드를 다르게 구현하면, print()함수로 출력하는 내용과 식으로 자동으로 출력하는 내용이 서로 다름.\n",
        "    * print() 함수는 `__str__` 메서드가 구현되어 있으면 `__str__` 메서드를 호출하고, `__str__ ` 메서드가 구현되어 있지 않으면 `__repr__`를 호출함\n",
        "* `__eq__(self,o)` : 두 객체가 같은 지(True) 다른 지(False)를 리턴하는 메서드.\n",
        "`==` 연산자를 사용했을 때 자동으로 호출되는 메서드.\n",
        "* `__add__(self, o)`: `+` 연산자를 사용했을 때 자동으로 호출되는 메서드.\n",
        "* `__mul__(self, o)`: `*` 연산자를 사용했을 때 자동으로 호출되는 메서드.\n"
      ],
      "metadata": {
        "id": "TbupWR9mifkZ"
      }
    },
    {
      "cell_type": "code",
      "source": [
        "class T:\n",
        "    def __str__(self):\n",
        "        return 'class T instance'\n",
        "    def __repr__(self):\n",
        "        return 'class T'\n",
        "\n",
        "t =T()\n",
        "print(t) # print 함수를 사용한 출력\n",
        "t # 셀의 가장 마지막 주에 있는 표현식의 자동 출력\n",
        "    "
      ],
      "metadata": {
        "colab": {
          "base_uri": "https://localhost:8080/"
        },
        "id": "hYvvEUVSjktJ",
        "outputId": "691865cd-45d7-4713-c0ee-8def2f79b60c"
      },
      "execution_count": null,
      "outputs": [
        {
          "output_type": "stream",
          "name": "stdout",
          "text": [
            "class T instance\n"
          ]
        },
        {
          "output_type": "execute_result",
          "data": {
            "text/plain": [
              "class T"
            ]
          },
          "metadata": {},
          "execution_count": 66
        }
      ]
    },
    {
      "cell_type": "code",
      "source": [
        "print(type(2))"
      ],
      "metadata": {
        "colab": {
          "base_uri": "https://localhost:8080/"
        },
        "id": "iS5nEmt3jnvO",
        "outputId": "06d5a2ef-fe22-4942-85c9-d6f09540056a"
      },
      "execution_count": null,
      "outputs": [
        {
          "output_type": "stream",
          "name": "stdout",
          "text": [
            "<class 'int'>\n"
          ]
        }
      ]
    },
    {
      "cell_type": "code",
      "source": [
        "list1 = [1,2,3]\n",
        "list2 = [1,2,3]"
      ],
      "metadata": {
        "id": "GYih3--SsjBN"
      },
      "execution_count": null,
      "outputs": []
    },
    {
      "cell_type": "code",
      "source": [
        "list1 == list2 # 안에 있는 내용만 확인 해서 true  list1.__eq__(list2)"
      ],
      "metadata": {
        "colab": {
          "base_uri": "https://localhost:8080/"
        },
        "id": "T6V09ijruX1F",
        "outputId": "a9259e77-dd23-40f2-acf4-6c5a6f214710"
      },
      "execution_count": null,
      "outputs": [
        {
          "output_type": "execute_result",
          "data": {
            "text/plain": [
              "True"
            ]
          },
          "metadata": {},
          "execution_count": 71
        }
      ]
    },
    {
      "cell_type": "code",
      "source": [
        "list1 + list2  # list1.__add__(list2)"
      ],
      "metadata": {
        "colab": {
          "base_uri": "https://localhost:8080/"
        },
        "id": "ZiCQmIt5ua1b",
        "outputId": "0cbc685b-eb8d-4ecb-f9fe-b4e9c7807a14"
      },
      "execution_count": null,
      "outputs": [
        {
          "output_type": "execute_result",
          "data": {
            "text/plain": [
              "[1, 2, 3, 1, 2, 3]"
            ]
          },
          "metadata": {},
          "execution_count": 72
        }
      ]
    },
    {
      "cell_type": "code",
      "source": [
        "class Number:\n",
        "    def __init__(self, x):\n",
        "        self.x = x\n",
        "    def __repr__(self):\n",
        "        return f'{self.x}'\n",
        "\n",
        "    def __eq__(self, other):\n",
        "        return self.x == other.x\n",
        "    \n",
        "    def __add__(self, other):  # 타입 검사 해야함.\n",
        "        return Number(self.x + other.x)"
      ],
      "metadata": {
        "id": "Q-vD10W7u3b5"
      },
      "execution_count": null,
      "outputs": []
    },
    {
      "cell_type": "code",
      "source": [
        "n1 = Number(10)\n",
        "n2 = Number(20)\n",
        "n3 = Number(10)"
      ],
      "metadata": {
        "id": "CNPA4VWdve7n"
      },
      "execution_count": null,
      "outputs": []
    },
    {
      "cell_type": "code",
      "source": [
        "print(n1,n2,n3)"
      ],
      "metadata": {
        "colab": {
          "base_uri": "https://localhost:8080/"
        },
        "id": "9axJHgIxvkCj",
        "outputId": "575c11c6-0b8b-4bac-c4f2-5a98ecd57908"
      },
      "execution_count": null,
      "outputs": [
        {
          "output_type": "stream",
          "name": "stdout",
          "text": [
            "10 20 10\n"
          ]
        }
      ]
    },
    {
      "cell_type": "code",
      "source": [
        "print(n1==n2)\n",
        "print(n1==n3)"
      ],
      "metadata": {
        "colab": {
          "base_uri": "https://localhost:8080/"
        },
        "id": "gRaCQ09Nvl4A",
        "outputId": "c0ee36f9-1626-4224-8488-9a76247415e3"
      },
      "execution_count": null,
      "outputs": [
        {
          "output_type": "stream",
          "name": "stdout",
          "text": [
            "False\n",
            "True\n"
          ]
        }
      ]
    },
    {
      "cell_type": "code",
      "source": [
        "type(n1+n2) # 연산결과 Number 객체  => __repr__ 호출"
      ],
      "metadata": {
        "colab": {
          "base_uri": "https://localhost:8080/"
        },
        "id": "Juo7TMVrwxa3",
        "outputId": "981a2e75-afc8-48d1-a58d-3ad89810a827"
      },
      "execution_count": null,
      "outputs": [
        {
          "output_type": "execute_result",
          "data": {
            "text/plain": [
              "__main__.Number"
            ]
          },
          "metadata": {},
          "execution_count": 97
        }
      ]
    },
    {
      "cell_type": "markdown",
      "source": [
        "* class Score\n",
        "    * 속성: Korean, english, math\n",
        "    * 메서드: 총점, 평균, `__repr__`, `__eq__`\n",
        "\n",
        "* class Student\n",
        "    * 속성 : stu_no, stu_name, score(Score 객체타입) \n",
        "    * 메서드 : `__repr__`"
      ],
      "metadata": {
        "id": "_LNhdMpuywAE"
      }
    },
    {
      "cell_type": "code",
      "source": [
        "class Score:\n",
        "    def __init__(self, korean=0, english=0, math=0):  # default argument 넣기\n",
        "        self.korean = korean     # self는 메모리 주소\n",
        "        self.english = english\n",
        "        self.math = math\n",
        "    def __repr__(self):  # 문자열만 리턴해야함.\n",
        "        return f'korean :{self.korean} , english :{self.english} , math:{self.math}  총점:{self.total()}  평균 :{self.mean()}'\n",
        "        \n",
        "    def __eq__(self,o):  # 파이썬은 라인 기준임. ()사용, \\ 사용.\n",
        "        return self.korean == o.korean and  \\\n",
        "                self.english == o.english and  \\\n",
        "                self.math == o.math\n",
        "    \n",
        "    def total(self):\n",
        "        return self.korean + self.english + self.math\n",
        "    \n",
        "    def mean(self):\n",
        "        return self.total()/3\n"
      ],
      "metadata": {
        "id": "Pyh5bRADxhT-"
      },
      "execution_count": 23,
      "outputs": []
    },
    {
      "cell_type": "code",
      "source": [
        "# 상속 관계 IS-A관계 학생은 사람이다. 회사원은 사람이다.  \n",
        "# 사람 = 상위 클래스\n",
        "# 학생, 회사원 = 하위 클래스\n",
        "\n",
        "# HAS-A   student has a score.\n",
        "\n",
        "class Student:\n",
        "    def __init__(self, stu_no, stu_name, score):\n",
        "        self.stu_no = stu_no\n",
        "        self.stu_name = stu_name\n",
        "        self.score = score\n",
        "    \n",
        "    def __repr__(self):\n",
        "        return f'Student  no:{self.stu_no} name:{self.stu_name}, Score:{self.score}'\n",
        "\n",
        "\n"
      ],
      "metadata": {
        "id": "usv69gff63TS"
      },
      "execution_count": 34,
      "outputs": []
    },
    {
      "cell_type": "code",
      "source": [
        "sc1 = Score()\n",
        "sc1"
      ],
      "metadata": {
        "colab": {
          "base_uri": "https://localhost:8080/"
        },
        "id": "hETz_LlIav2p",
        "outputId": "1c10519a-98a1-4660-fd7d-387c64ea9fa0"
      },
      "execution_count": 35,
      "outputs": [
        {
          "output_type": "execute_result",
          "data": {
            "text/plain": [
              "korean :0 , english :0 , math:0  총점:0  평균 :0.0"
            ]
          },
          "metadata": {},
          "execution_count": 35
        }
      ]
    },
    {
      "cell_type": "code",
      "source": [
        "sc2 = Score()\n",
        "sc2"
      ],
      "metadata": {
        "colab": {
          "base_uri": "https://localhost:8080/"
        },
        "id": "sU7rXoOWa_JQ",
        "outputId": "70097c23-2405-4c54-ba7c-99925079fad5"
      },
      "execution_count": 36,
      "outputs": [
        {
          "output_type": "execute_result",
          "data": {
            "text/plain": [
              "korean :0 , english :0 , math:0  총점:0  평균 :0.0"
            ]
          },
          "metadata": {},
          "execution_count": 36
        }
      ]
    },
    {
      "cell_type": "code",
      "source": [
        "sc3 = Score(50,70,50)\n",
        "sc3"
      ],
      "metadata": {
        "colab": {
          "base_uri": "https://localhost:8080/"
        },
        "id": "4sCfDb6ydaFG",
        "outputId": "0a9c94ca-c342-4ca9-844a-28a0ec59ebc9"
      },
      "execution_count": 37,
      "outputs": [
        {
          "output_type": "execute_result",
          "data": {
            "text/plain": [
              "korean :50 , english :70 , math:50  총점:170  평균 :56.666666666666664"
            ]
          },
          "metadata": {},
          "execution_count": 37
        }
      ]
    },
    {
      "cell_type": "code",
      "source": [
        "print(sc1==sc2)"
      ],
      "metadata": {
        "colab": {
          "base_uri": "https://localhost:8080/"
        },
        "id": "5nMbcC1OdfoQ",
        "outputId": "9e49bc7b-dd90-4c16-98d0-ac67bade7b01"
      },
      "execution_count": 38,
      "outputs": [
        {
          "output_type": "stream",
          "name": "stdout",
          "text": [
            "True\n"
          ]
        }
      ]
    },
    {
      "cell_type": "code",
      "source": [
        "score1 = Score(90,100,80)\n",
        "score2 = Score(90,100,80)\n",
        "\n",
        "score1 == score2"
      ],
      "metadata": {
        "colab": {
          "base_uri": "https://localhost:8080/"
        },
        "id": "myJBfCib48Zm",
        "outputId": "63fb3150-afca-44be-82b6-b7066af9b5ce"
      },
      "execution_count": 39,
      "outputs": [
        {
          "output_type": "execute_result",
          "data": {
            "text/plain": [
              "True"
            ]
          },
          "metadata": {},
          "execution_count": 39
        }
      ]
    },
    {
      "cell_type": "code",
      "source": [
        "stu1 = Student(10, 'choi', score1)\n",
        "stu1\n"
      ],
      "metadata": {
        "colab": {
          "base_uri": "https://localhost:8080/"
        },
        "id": "0ZEzSCxR7R-G",
        "outputId": "a71bfec1-5b88-4a46-f534-706417cb2e08"
      },
      "execution_count": 40,
      "outputs": [
        {
          "output_type": "execute_result",
          "data": {
            "text/plain": [
              "Student  no:10 name:choi, Score:korean :90 , english :100 , math:80  총점:270  평균 :90.0"
            ]
          },
          "metadata": {},
          "execution_count": 40
        }
      ]
    },
    {
      "cell_type": "code",
      "source": [
        "score1.mean()"
      ],
      "metadata": {
        "colab": {
          "base_uri": "https://localhost:8080/"
        },
        "id": "urNdefLn5t5G",
        "outputId": "f3dbff7f-3677-429b-b4e1-c0b26030c628"
      },
      "execution_count": 41,
      "outputs": [
        {
          "output_type": "execute_result",
          "data": {
            "text/plain": [
              "90.0"
            ]
          },
          "metadata": {},
          "execution_count": 41
        }
      ]
    },
    {
      "cell_type": "code",
      "source": [
        "student2 = Student(2, '오쌤', Score(100,90,80))\n",
        "\n",
        "student2"
      ],
      "metadata": {
        "colab": {
          "base_uri": "https://localhost:8080/"
        },
        "id": "J29dxAWckeew",
        "outputId": "0e9bc821-267e-46f2-b0f3-49d26df80039"
      },
      "execution_count": 42,
      "outputs": [
        {
          "output_type": "execute_result",
          "data": {
            "text/plain": [
              "Student  no:2 name:오쌤, Score:korean :100 , english :90 , math:80  총점:270  평균 :90.0"
            ]
          },
          "metadata": {},
          "execution_count": 42
        }
      ]
    },
    {
      "cell_type": "code",
      "source": [
        "stu1.score"
      ],
      "metadata": {
        "colab": {
          "base_uri": "https://localhost:8080/"
        },
        "id": "EeLNURomkmpZ",
        "outputId": "ab7a3568-68c4-44d0-cbb3-985347be5972"
      },
      "execution_count": 45,
      "outputs": [
        {
          "output_type": "execute_result",
          "data": {
            "text/plain": [
              "korean :90 , english :100 , math:80  총점:270  평균 :90.0"
            ]
          },
          "metadata": {},
          "execution_count": 45
        }
      ]
    },
    {
      "cell_type": "code",
      "source": [],
      "metadata": {
        "id": "KbY1x6RAk74n"
      },
      "execution_count": null,
      "outputs": []
    }
  ]
}