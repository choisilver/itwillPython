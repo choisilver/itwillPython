{
  "nbformat": 4,
  "nbformat_minor": 0,
  "metadata": {
    "colab": {
      "provenance": [],
      "authorship_tag": "ABX9TyMVfkorgabeA6jr3XgYFirT",
      "include_colab_link": true
    },
    "kernelspec": {
      "name": "python3",
      "display_name": "Python 3"
    },
    "language_info": {
      "name": "python"
    }
  },
  "cells": [
    {
      "cell_type": "markdown",
      "metadata": {
        "id": "view-in-github",
        "colab_type": "text"
      },
      "source": [
        "<a href=\"https://colab.research.google.com/github/choisilver/itwillPython/blob/main/py14_try.ipynb\" target=\"_parent\"><img src=\"https://colab.research.google.com/assets/colab-badge.svg\" alt=\"Open In Colab\"/></a>"
      ]
    },
    {
      "cell_type": "markdown",
      "source": [
        "# 오류(Error) 처리 구문\n",
        "\n",
        "* 오류가 발생한 위치와 원인을 파악해서 오류가 발생하지 않도록 코드 수정.\n",
        "* 오류가 발생하더라도 프로그램이 비정상적으로 종료되지 않고 계속 실행될 수 있도록 처리 -> try 구문\n",
        "    * Java는 반드시 try-catch 구문을 사용해야만 하는 Exception 종류들이 있음.\n",
        "        * NullPointerException: try-catch가 필수 아님. 실행이 되긴함.\n",
        "        * SQLException: try-catch가 반드시 필요. 컴파일 자체가 안됨.\n",
        "    * Python은 모든 오류 처리에서 try-except는 필수는 아님.\n",
        "\n"
      ],
      "metadata": {
        "id": "jMTEfHyFaPOX"
      }
    },
    {
      "cell_type": "markdown",
      "source": [
        "\n",
        "```\n",
        "try:\n",
        "    (1) 실행할 코드 블록\n",
        "except [에러 클래스 이름 [as 별명]]:\n",
        "    (2) 에러가 발생했을 대 실행할 코드 블록\n",
        "[else:\n",
        "    (3) 에러가 발생하지 않았을 때 실행할 코드 블록]    \n",
        "[finally:\n",
        "    (4) try 블록을 실행 중에 에러 발생 여부와 상관 없이 항상 실행할 코드 블록]\n",
        "\n",
        "```\n",
        "\n",
        "* 에러가 발생하지 않는 경우: (1) -> (3) -> (4)\n",
        "* 에러가 발생하는 경우: (1) -> (2) -> (4)\n",
        "\n"
      ],
      "metadata": {
        "id": "875fRGzFdBmO"
      }
    },
    {
      "cell_type": "code",
      "execution_count": 10,
      "metadata": {
        "colab": {
          "base_uri": "https://localhost:8080/"
        },
        "id": "iyfo8lJlZ2dd",
        "outputId": "a3b18f69-747d-40a9-a87f-2d179b962c40"
      },
      "outputs": [
        {
          "output_type": "stream",
          "name": "stdout",
          "text": [
            "정수 >dd\n",
            "정수만 입력\n"
          ]
        }
      ],
      "source": [
        "try:\n",
        "    x = int(input('정수 >'))\n",
        "    print(f'x= {x}')\n",
        "except: # 모든 종류의 에러를 처리\n",
        "    print('정수만 입력')"
      ]
    },
    {
      "cell_type": "code",
      "source": [
        "try:\n",
        "    x = int(input('정수 >'))   # 1.\n",
        "except ValueError as e:\n",
        "    print(e)                    # 2.\n",
        "else:\n",
        "    print(f'x = {x}')           # 3.\n",
        "finally:\n",
        "    print()\n",
        "    print('===end===')          # 4."
      ],
      "metadata": {
        "colab": {
          "base_uri": "https://localhost:8080/"
        },
        "id": "sEYNL9aEev6k",
        "outputId": "b2635cf0-61d8-4755-9711-05b66437a4ec"
      },
      "execution_count": 9,
      "outputs": [
        {
          "output_type": "stream",
          "name": "stdout",
          "text": [
            "정수 >1.\n",
            "invalid literal for int() with base 10: '1.'\n",
            "\n",
            "===end===\n"
          ]
        }
      ]
    },
    {
      "cell_type": "markdown",
      "source": [
        "# Ex 1. \n",
        "\n",
        "정수 1개를 입력받고, 입력받은 정수를 출력.\n",
        "\n",
        "정수로 변환할 수 없는 문자열이 입력된 경우에는 적절한 오류 메시지를 출력한 후 다시 입력을 받아야 함.\n"
      ],
      "metadata": {
        "id": "lkI3u_gphZMc"
      }
    },
    {
      "cell_type": "code",
      "source": [
        "while True:   # 무한 반복문\n",
        "    try:\n",
        "        x = int(input('정수 입력 ~~ '))\n",
        "        print(f'정수 x = {x}')\n",
        "        break  # while문 종료\n",
        "    except:\n",
        "        print('정수만 입력하시오')\n",
        "\n",
        "\n"
      ],
      "metadata": {
        "colab": {
          "base_uri": "https://localhost:8080/"
        },
        "id": "hl0c7sWVf2JN",
        "outputId": "a0dc9f85-2f61-4659-a98e-939302224f72"
      },
      "execution_count": 20,
      "outputs": [
        {
          "output_type": "stream",
          "name": "stdout",
          "text": [
            "정수 입력 ~~ 11\n",
            "정수 x = 11\n"
          ]
        }
      ]
    },
    {
      "cell_type": "markdown",
      "source": [
        "# Ex 2. 단어 개수 세기\n",
        "\n",
        "리스트 words가 가지고 있는 단어들을 key로 하고, 그 단어가 리스트에 나오는 횟수를 값으로 하는 dict 생성.\n"
      ],
      "metadata": {
        "id": "4phlJP1Cht3r"
      }
    },
    {
      "cell_type": "code",
      "source": [
        "words = ['java', 'python', 'java', 'javascript', 'python', 'kotlin', 'html', 'python']\n",
        "# word_counts = {'java':2, 'python':3, 'javascript':1, 'kotlin':1, 'html':1}\n",
        "word_counts = {}  # {단어: 개수} 저장할 빈 dict \n",
        "\n",
        "for w in words:  # 리스트에서 단어를 차례로 꺼내면서 반복\n",
        "    if w in word_counts:  # 리스트에서 꺼낸 단어가 dict 안에 있으면\n",
        "        word_counts[w] +=1  # 단어가 나오는 횟수를 1증가\n",
        "    else:   # dict에 단어가 없는 경우 ->\n",
        "        word_counts[w] = 1 \n",
        "    print(word_counts)\n"
      ],
      "metadata": {
        "colab": {
          "base_uri": "https://localhost:8080/"
        },
        "id": "2BBUwyaCiK6k",
        "outputId": "ba471cc9-958f-43f6-e836-40ee8d1b5492"
      },
      "execution_count": 23,
      "outputs": [
        {
          "output_type": "stream",
          "name": "stdout",
          "text": [
            "{'java': 1}\n",
            "{'java': 1, 'python': 1}\n",
            "{'java': 2, 'python': 1}\n",
            "{'java': 2, 'python': 1, 'javascript': 1}\n",
            "{'java': 2, 'python': 2, 'javascript': 1}\n",
            "{'java': 2, 'python': 2, 'javascript': 1, 'kotlin': 1}\n",
            "{'java': 2, 'python': 2, 'javascript': 1, 'kotlin': 1, 'html': 1}\n",
            "{'java': 2, 'python': 3, 'javascript': 1, 'kotlin': 1, 'html': 1}\n"
          ]
        }
      ]
    },
    {
      "cell_type": "code",
      "source": [
        "# try 문을 사용해서 해결하기\n",
        "word_counts2 ={}\n",
        "for w in words:\n",
        "    try:\n",
        "        word_counts2[w] +=1  # 단어 등장 횟수 + 1\n",
        "    except:\n",
        "        word_counts2[w] =1   # 단어가 처음 등장\n",
        "        print(word_counts2)\n",
        "\n"
      ],
      "metadata": {
        "colab": {
          "base_uri": "https://localhost:8080/"
        },
        "id": "8RU9n9fqsYe4",
        "outputId": "c33d349e-92e8-46c8-e0f2-164ff51ca86e"
      },
      "execution_count": 28,
      "outputs": [
        {
          "output_type": "stream",
          "name": "stdout",
          "text": [
            "{'java': 1}\n",
            "{'java': 1, 'python': 1}\n",
            "{'java': 2, 'python': 1}\n",
            "{'java': 2, 'python': 1, 'javascript': 1}\n",
            "{'java': 2, 'python': 2, 'javascript': 1}\n",
            "{'java': 2, 'python': 2, 'javascript': 1, 'kotlin': 1}\n",
            "{'java': 2, 'python': 2, 'javascript': 1, 'kotlin': 1, 'html': 1}\n",
            "{'java': 2, 'python': 3, 'javascript': 1, 'kotlin': 1, 'html': 1}\n"
          ]
        }
      ]
    },
    {
      "cell_type": "code",
      "source": [
        "word_count = {}  # {단어: 개수} 저장할 빈 dict \n",
        "\n",
        "for x in words:  # 리스트에서 단어를 차례로 꺼내면서 반복\n",
        "    count =0\n",
        "    for y in words:\n",
        "        if x == y:\n",
        "            count +=1\n",
        "        word_count[x] = count\n",
        "    print (word_count)\n",
        "\n",
        "\n",
        "\n",
        "\n"
      ],
      "metadata": {
        "colab": {
          "base_uri": "https://localhost:8080/"
        },
        "id": "zPPudtwTnLd7",
        "outputId": "ef60853c-572d-41cf-d7ec-55d934b58100"
      },
      "execution_count": 24,
      "outputs": [
        {
          "output_type": "stream",
          "name": "stdout",
          "text": [
            "{'java': 2}\n",
            "{'java': 2, 'python': 3}\n",
            "{'java': 2, 'python': 3}\n",
            "{'java': 2, 'python': 3, 'javascript': 1}\n",
            "{'java': 2, 'python': 3, 'javascript': 1}\n",
            "{'java': 2, 'python': 3, 'javascript': 1, 'kotlin': 1}\n",
            "{'java': 2, 'python': 3, 'javascript': 1, 'kotlin': 1, 'html': 1}\n",
            "{'java': 2, 'python': 3, 'javascript': 1, 'kotlin': 1, 'html': 1}\n"
          ]
        }
      ]
    },
    {
      "cell_type": "code",
      "source": [],
      "metadata": {
        "id": "rxBYrBI0oEJr"
      },
      "execution_count": null,
      "outputs": []
    }
  ]
}